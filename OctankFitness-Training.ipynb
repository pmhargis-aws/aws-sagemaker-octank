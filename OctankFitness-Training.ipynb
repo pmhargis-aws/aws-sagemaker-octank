{
 "cells": [
  {
   "cell_type": "code",
   "execution_count": 2,
   "metadata": {},
   "outputs": [
    {
     "name": "stdout",
     "output_type": "stream",
     "text": [
      "Collecting pip\n",
      "  Downloading pip-20.2.1-py2.py3-none-any.whl (1.5 MB)\n",
      "\u001b[K     |████████████████████████████████| 1.5 MB 11.7 MB/s eta 0:00:01\n",
      "\u001b[?25hInstalling collected packages: pip\n",
      "  Attempting uninstall: pip\n",
      "    Found existing installation: pip 20.0.2\n",
      "    Uninstalling pip-20.0.2:\n",
      "      Successfully uninstalled pip-20.0.2\n",
      "Successfully installed pip-20.2.1\n"
     ]
    }
   ],
   "source": [
    "!pip install --upgrade pip"
   ]
  },
  {
   "cell_type": "code",
   "execution_count": 5,
   "metadata": {},
   "outputs": [
    {
     "name": "stdout",
     "output_type": "stream",
     "text": [
      "Execution Role: arn:aws:iam::572539092864:role/service-role/AmazonSageMaker-ExecutionRole-20200407T174741\n",
      "S3 Data Location: s3://octank-smartwatch-data/sagemaker-train/subject101.csv\n"
     ]
    }
   ],
   "source": [
    "import boto3\n",
    "import pandas as pd\n",
    "from sagemaker import get_execution_role\n",
    "\n",
    "role = get_execution_role()\n",
    "print('Execution Role: {}'.format(role))\n",
    "\n",
    "bucket_name='octank-smartwatch-data'\n",
    "s3_prefix='sagemaker-train'\n",
    "\n",
    "data_key = 'subject101.csv'\n",
    "data_location = 's3://{}/{}/{}'.format(bucket_name, s3_prefix, data_key)\n",
    "print('S3 Data Location: {}'.format(data_location))"
   ]
  },
  {
   "cell_type": "code",
   "execution_count": 17,
   "metadata": {},
   "outputs": [],
   "source": [
    "data = pd.read_csv(data_location, header=None)"
   ]
  },
  {
   "cell_type": "code",
   "execution_count": 24,
   "metadata": {},
   "outputs": [],
   "source": [
    "# Apply column names\n",
    "data.columns = ['timestamp', 'activity_id', 'heart_rate', 'imu_wrist_temp', \n",
    "                'imu_wrist_accel16_x', 'imu_wrist_accel16_y', 'imu_wrist_accel16_z', \n",
    "                'imu_wrist_accel6_x', 'imu_wrist_accel6_y', 'imu_wrist_accel6_z', \n",
    "                'imu_wrist_gyro_x', 'imu_wrist_gyro_y', 'imu_wrist_gyro_z', \n",
    "                'imu_wrist_magnet_x', 'imu_wrist_magnet_y', 'imu_wrist_magnet_z', \n",
    "                'imu_wrist_orient1', 'imu_wrist_orient2', 'imu_wrist_orient3', 'imu_wrist_orient4', \n",
    "                'imu_chest_temp', 'imu_chest_accel16_x', 'imu_chest_accel16_y', 'imu_chest_accel16_z', \n",
    "                'imu_chest_accel6_x', 'imu_chest_accel6_y', 'imu_chest_accel6_z', \n",
    "                'imu_chest_gyro_x', 'imu_chest_gyro_y', 'imu_chest_gyro_z', \n",
    "                'imu_chest_magnet_x', 'imu_chest_magnet_y', 'imu_chest_magnet_z', \n",
    "                'imu_chest_orient1', 'imu_chest_orient2', 'imu_chest_orient3', 'imu_chest_orient4', \n",
    "                'imu_ankle_temp', 'imu_ankle_accel16_x', 'imu_ankle_accel16_y', 'imu_ankle_accel16_z', \n",
    "                'imu_ankle_accel6_x', 'imu_ankle_accel6_y', 'imu_ankle_accel6_z', \n",
    "                'imu_ankle_gyro_x', 'imu_ankle_gyro_y', 'imu_ankle_gyro_z', \n",
    "                'imu_ankle_magnet_x', 'imu_ankle_magnet_y', 'imu_ankle_magnet_z', \n",
    "                'imu_ankle_orient1', 'imu_ankle_orient2', 'imu_ankle_orient3', 'imu_ankle_orient4']\n",
    "\n",
    "data.columns"
   ]
  },
  {
   "cell_type": "code",
   "execution_count": 33,
   "metadata": {},
   "outputs": [
    {
     "data": {
      "text/plain": [
       "(376417, 54)"
      ]
     },
     "execution_count": 33,
     "metadata": {},
     "output_type": "execute_result"
    }
   ],
   "source": [
    "data.shape"
   ]
  },
  {
   "cell_type": "code",
   "execution_count": 34,
   "metadata": {},
   "outputs": [
    {
     "data": {
      "text/html": [
       "<div>\n",
       "<style scoped>\n",
       "    .dataframe tbody tr th:only-of-type {\n",
       "        vertical-align: middle;\n",
       "    }\n",
       "\n",
       "    .dataframe tbody tr th {\n",
       "        vertical-align: top;\n",
       "    }\n",
       "\n",
       "    .dataframe thead th {\n",
       "        text-align: right;\n",
       "    }\n",
       "</style>\n",
       "<table border=\"1\" class=\"dataframe\">\n",
       "  <thead>\n",
       "    <tr style=\"text-align: right;\">\n",
       "      <th></th>\n",
       "      <th>timestamp</th>\n",
       "      <th>activity_id</th>\n",
       "      <th>heart_rate</th>\n",
       "      <th>imu_wrist_temp</th>\n",
       "      <th>imu_wrist_accel16_x</th>\n",
       "      <th>imu_wrist_accel16_y</th>\n",
       "      <th>imu_wrist_accel16_z</th>\n",
       "      <th>imu_wrist_accel6_x</th>\n",
       "      <th>imu_wrist_accel6_y</th>\n",
       "      <th>imu_wrist_accel6_z</th>\n",
       "      <th>...</th>\n",
       "      <th>imu_ankle_gyro_x</th>\n",
       "      <th>imu_ankle_gyro_y</th>\n",
       "      <th>imu_ankle_gyro_z</th>\n",
       "      <th>imu_ankle_magnet_x</th>\n",
       "      <th>imu_ankle_magnet_y</th>\n",
       "      <th>imu_ankle_magnet_z</th>\n",
       "      <th>imu_ankle_orient1</th>\n",
       "      <th>imu_ankle_orient2</th>\n",
       "      <th>imu_ankle_orient3</th>\n",
       "      <th>imu_ankle_orient4</th>\n",
       "    </tr>\n",
       "  </thead>\n",
       "  <tbody>\n",
       "    <tr>\n",
       "      <th>0</th>\n",
       "      <td>8.38</td>\n",
       "      <td>0</td>\n",
       "      <td>104.0</td>\n",
       "      <td>30.0</td>\n",
       "      <td>2.37223</td>\n",
       "      <td>8.60074</td>\n",
       "      <td>3.51048</td>\n",
       "      <td>2.43954</td>\n",
       "      <td>8.76165</td>\n",
       "      <td>3.35465</td>\n",
       "      <td>...</td>\n",
       "      <td>0.008300</td>\n",
       "      <td>0.009250</td>\n",
       "      <td>-0.017580</td>\n",
       "      <td>-61.1888</td>\n",
       "      <td>-38.9599</td>\n",
       "      <td>-58.1438</td>\n",
       "      <td>1.0</td>\n",
       "      <td>0.0</td>\n",
       "      <td>0.0</td>\n",
       "      <td>0.0</td>\n",
       "    </tr>\n",
       "    <tr>\n",
       "      <th>1</th>\n",
       "      <td>8.39</td>\n",
       "      <td>0</td>\n",
       "      <td>NaN</td>\n",
       "      <td>30.0</td>\n",
       "      <td>2.18837</td>\n",
       "      <td>8.56560</td>\n",
       "      <td>3.66179</td>\n",
       "      <td>2.39494</td>\n",
       "      <td>8.55081</td>\n",
       "      <td>3.64207</td>\n",
       "      <td>...</td>\n",
       "      <td>-0.006577</td>\n",
       "      <td>-0.004638</td>\n",
       "      <td>0.000368</td>\n",
       "      <td>-59.8479</td>\n",
       "      <td>-38.8919</td>\n",
       "      <td>-58.5253</td>\n",
       "      <td>1.0</td>\n",
       "      <td>0.0</td>\n",
       "      <td>0.0</td>\n",
       "      <td>0.0</td>\n",
       "    </tr>\n",
       "    <tr>\n",
       "      <th>2</th>\n",
       "      <td>8.40</td>\n",
       "      <td>0</td>\n",
       "      <td>NaN</td>\n",
       "      <td>30.0</td>\n",
       "      <td>2.37357</td>\n",
       "      <td>8.60107</td>\n",
       "      <td>3.54898</td>\n",
       "      <td>2.30514</td>\n",
       "      <td>8.53644</td>\n",
       "      <td>3.73280</td>\n",
       "      <td>...</td>\n",
       "      <td>0.003014</td>\n",
       "      <td>0.000148</td>\n",
       "      <td>0.022495</td>\n",
       "      <td>-60.7361</td>\n",
       "      <td>-39.4138</td>\n",
       "      <td>-58.3999</td>\n",
       "      <td>1.0</td>\n",
       "      <td>0.0</td>\n",
       "      <td>0.0</td>\n",
       "      <td>0.0</td>\n",
       "    </tr>\n",
       "    <tr>\n",
       "      <th>3</th>\n",
       "      <td>8.41</td>\n",
       "      <td>0</td>\n",
       "      <td>NaN</td>\n",
       "      <td>30.0</td>\n",
       "      <td>2.07473</td>\n",
       "      <td>8.52853</td>\n",
       "      <td>3.66021</td>\n",
       "      <td>2.33528</td>\n",
       "      <td>8.53622</td>\n",
       "      <td>3.73277</td>\n",
       "      <td>...</td>\n",
       "      <td>0.003175</td>\n",
       "      <td>-0.020301</td>\n",
       "      <td>0.011275</td>\n",
       "      <td>-60.4091</td>\n",
       "      <td>-38.7635</td>\n",
       "      <td>-58.3956</td>\n",
       "      <td>1.0</td>\n",
       "      <td>0.0</td>\n",
       "      <td>0.0</td>\n",
       "      <td>0.0</td>\n",
       "    </tr>\n",
       "    <tr>\n",
       "      <th>4</th>\n",
       "      <td>8.42</td>\n",
       "      <td>0</td>\n",
       "      <td>NaN</td>\n",
       "      <td>30.0</td>\n",
       "      <td>2.22936</td>\n",
       "      <td>8.83122</td>\n",
       "      <td>3.70000</td>\n",
       "      <td>2.23055</td>\n",
       "      <td>8.59741</td>\n",
       "      <td>3.76295</td>\n",
       "      <td>...</td>\n",
       "      <td>0.012698</td>\n",
       "      <td>-0.014303</td>\n",
       "      <td>-0.002823</td>\n",
       "      <td>-61.5199</td>\n",
       "      <td>-39.3879</td>\n",
       "      <td>-58.2694</td>\n",
       "      <td>1.0</td>\n",
       "      <td>0.0</td>\n",
       "      <td>0.0</td>\n",
       "      <td>0.0</td>\n",
       "    </tr>\n",
       "  </tbody>\n",
       "</table>\n",
       "<p>5 rows × 54 columns</p>\n",
       "</div>"
      ],
      "text/plain": [
       "   timestamp  activity_id  heart_rate  imu_wrist_temp  imu_wrist_accel16_x  \\\n",
       "0       8.38            0       104.0            30.0              2.37223   \n",
       "1       8.39            0         NaN            30.0              2.18837   \n",
       "2       8.40            0         NaN            30.0              2.37357   \n",
       "3       8.41            0         NaN            30.0              2.07473   \n",
       "4       8.42            0         NaN            30.0              2.22936   \n",
       "\n",
       "   imu_wrist_accel16_y  imu_wrist_accel16_z  imu_wrist_accel6_x  \\\n",
       "0              8.60074              3.51048             2.43954   \n",
       "1              8.56560              3.66179             2.39494   \n",
       "2              8.60107              3.54898             2.30514   \n",
       "3              8.52853              3.66021             2.33528   \n",
       "4              8.83122              3.70000             2.23055   \n",
       "\n",
       "   imu_wrist_accel6_y  imu_wrist_accel6_z  ...  imu_ankle_gyro_x  \\\n",
       "0             8.76165             3.35465  ...          0.008300   \n",
       "1             8.55081             3.64207  ...         -0.006577   \n",
       "2             8.53644             3.73280  ...          0.003014   \n",
       "3             8.53622             3.73277  ...          0.003175   \n",
       "4             8.59741             3.76295  ...          0.012698   \n",
       "\n",
       "   imu_ankle_gyro_y  imu_ankle_gyro_z  imu_ankle_magnet_x  imu_ankle_magnet_y  \\\n",
       "0          0.009250         -0.017580            -61.1888            -38.9599   \n",
       "1         -0.004638          0.000368            -59.8479            -38.8919   \n",
       "2          0.000148          0.022495            -60.7361            -39.4138   \n",
       "3         -0.020301          0.011275            -60.4091            -38.7635   \n",
       "4         -0.014303         -0.002823            -61.5199            -39.3879   \n",
       "\n",
       "   imu_ankle_magnet_z  imu_ankle_orient1  imu_ankle_orient2  \\\n",
       "0            -58.1438                1.0                0.0   \n",
       "1            -58.5253                1.0                0.0   \n",
       "2            -58.3999                1.0                0.0   \n",
       "3            -58.3956                1.0                0.0   \n",
       "4            -58.2694                1.0                0.0   \n",
       "\n",
       "   imu_ankle_orient3  imu_ankle_orient4  \n",
       "0                0.0                0.0  \n",
       "1                0.0                0.0  \n",
       "2                0.0                0.0  \n",
       "3                0.0                0.0  \n",
       "4                0.0                0.0  \n",
       "\n",
       "[5 rows x 54 columns]"
      ]
     },
     "execution_count": 34,
     "metadata": {},
     "output_type": "execute_result"
    }
   ],
   "source": [
    "data.head(5)"
   ]
  },
  {
   "cell_type": "code",
   "execution_count": 35,
   "metadata": {},
   "outputs": [
    {
     "data": {
      "text/plain": [
       "0    8.38\n",
       "1    8.39\n",
       "2    8.40\n",
       "3    8.41\n",
       "4    8.42\n",
       "Name: timestamp, dtype: float64"
      ]
     },
     "execution_count": 35,
     "metadata": {},
     "output_type": "execute_result"
    }
   ],
   "source": [
    "data['timestamp'].head(5)"
   ]
  },
  {
   "cell_type": "code",
   "execution_count": 36,
   "metadata": {},
   "outputs": [
    {
     "data": {
      "text/plain": [
       "0    0\n",
       "1    0\n",
       "2    0\n",
       "3    0\n",
       "4    0\n",
       "Name: activity_id, dtype: int64"
      ]
     },
     "execution_count": 36,
     "metadata": {},
     "output_type": "execute_result"
    }
   ],
   "source": [
    "data['activity_id'].head(5)"
   ]
  },
  {
   "cell_type": "code",
   "execution_count": 37,
   "metadata": {},
   "outputs": [
    {
     "data": {
      "text/plain": [
       "0    104.0\n",
       "1      NaN\n",
       "2      NaN\n",
       "3      NaN\n",
       "4      NaN\n",
       "Name: heart_rate, dtype: float64"
      ]
     },
     "execution_count": 37,
     "metadata": {},
     "output_type": "execute_result"
    }
   ],
   "source": [
    "data['heart_rate'].head(5)"
   ]
  },
  {
   "cell_type": "code",
   "execution_count": 38,
   "metadata": {},
   "outputs": [
    {
     "data": {
      "text/plain": [
       "0    30.0\n",
       "1    30.0\n",
       "2    30.0\n",
       "3    30.0\n",
       "4    30.0\n",
       "Name: imu_wrist_temp, dtype: float64"
      ]
     },
     "execution_count": 38,
     "metadata": {},
     "output_type": "execute_result"
    }
   ],
   "source": [
    "data['imu_wrist_temp'].head(5)"
   ]
  },
  {
   "cell_type": "code",
   "execution_count": null,
   "metadata": {},
   "outputs": [],
   "source": []
  },
  {
   "cell_type": "code",
   "execution_count": 9,
   "metadata": {},
   "outputs": [],
   "source": [
    "activity_ids = ['unassigned', 'lying', 'sitting', 'standing ', 'walking', 'running', 'cycling', 'nordic_walking ', \n",
    "                'missing_8', 'watching_tv ', 'computer_work ', 'car_driving ', 'ascending_stairs ', 'descending_stairs ', \n",
    "                'missing_14', 'missing_15', 'vacuuming ', 'ironing', 'folding_laundry', 'house_cleaning', 'playing soccer', \n",
    "                'missing_21', 'missing_22', 'missing_23', 'rope jumping']"
   ]
  },
  {
   "cell_type": "code",
   "execution_count": null,
   "metadata": {},
   "outputs": [],
   "source": []
  }
 ],
 "metadata": {
  "kernelspec": {
   "display_name": "conda_python3",
   "language": "python",
   "name": "conda_python3"
  },
  "language_info": {
   "codemirror_mode": {
    "name": "ipython",
    "version": 3
   },
   "file_extension": ".py",
   "mimetype": "text/x-python",
   "name": "python",
   "nbconvert_exporter": "python",
   "pygments_lexer": "ipython3",
   "version": "3.6.10"
  }
 },
 "nbformat": 4,
 "nbformat_minor": 4
}
